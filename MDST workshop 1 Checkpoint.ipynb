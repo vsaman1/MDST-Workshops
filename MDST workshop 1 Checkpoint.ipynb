{
 "cells": [
  {
   "cell_type": "code",
   "execution_count": 5,
   "metadata": {},
   "outputs": [
    {
     "name": "stdout",
     "output_type": "stream",
     "text": [
      "Hello World\n",
      "23\n"
     ]
    }
   ],
   "source": [
    "print(\"Hello World\")\n",
    "x = 23\n",
    "print(x)"
   ]
  },
  {
   "cell_type": "code",
   "execution_count": 13,
   "metadata": {},
   "outputs": [
    {
     "name": "stdout",
     "output_type": "stream",
     "text": [
      "6\n",
      "Today\n",
      "great day.\n"
     ]
    }
   ],
   "source": [
    "a = \"hello\"\n",
    "b = 9\n",
    "c = 3.14\n",
    "d = True\n",
    "number = \"5\"\n",
    "number = int(number) + 1\n",
    "print(number)\n",
    "#type casting\n",
    "#int()\n",
    "#float()\n",
    "sentence = \"Today is a great day.\"\n",
    "#slice a string and print a specific part of it does not include the last number/character\n",
    "#use negatives to start from the back\n",
    "print(sentence[0:5])\n",
    "print(sentence[-10:])"
   ]
  },
  {
   "cell_type": "code",
   "execution_count": 16,
   "metadata": {},
   "outputs": [
    {
     "name": "stdout",
     "output_type": "stream",
     "text": [
      "False\n"
     ]
    }
   ],
   "source": [
    "print(9<3) #boolean value it prints"
   ]
  },
  {
   "cell_type": "code",
   "execution_count": 17,
   "metadata": {},
   "outputs": [],
   "source": [
    "#Logical Operator\n",
    "#and\n",
    "#or\n",
    "#not - gives the value of the opposite"
   ]
  },
  {
   "cell_type": "code",
   "execution_count": 19,
   "metadata": {},
   "outputs": [
    {
     "name": "stdout",
     "output_type": "stream",
     "text": [
      "['apples', 'oranges', 'bananas', 'watermelons', 5]\n"
     ]
    }
   ],
   "source": [
    "#lists\n",
    "#can have multiple data types in any type of lists you cna mix them \n",
    "\n",
    "fruits = [\"apples\",\"oranges\",\"bananas\",\"watermelons\",5]\n",
    "print(fruits)"
   ]
  },
  {
   "cell_type": "code",
   "execution_count": 22,
   "metadata": {},
   "outputs": [
    {
     "name": "stdout",
     "output_type": "stream",
     "text": [
      "h\n",
      "['h', 'e', 'l', 'l', 'o']\n"
     ]
    }
   ],
   "source": [
    "s = ['h','e','l','l','o']\n",
    "print(s[0])\n",
    "print(s[0:5]) #includes first excludes last"
   ]
  },
  {
   "cell_type": "code",
   "execution_count": 30,
   "metadata": {},
   "outputs": [
    {
     "name": "stdout",
     "output_type": "stream",
     "text": [
      "{'oranges': 5, 'apples': 10, 'lemons': 100, 'melons': 0}\n",
      "5\n",
      "6\n"
     ]
    }
   ],
   "source": [
    "#dictionaries\n",
    "dictionary = {\n",
    "    \"oranges\":5,\n",
    "    \"apples\":10,\n",
    "    \"lemons\":100,\n",
    "    \"melons\":0\n",
    "}\n",
    "print(dictionary)\n",
    "print(dictionary[\"oranges\"]) #allows you to associate terms and values that are a set\n",
    "dictionary[\"oranges\"] +=1\n",
    "print(dictionary[\"oranges\"])"
   ]
  },
  {
   "cell_type": "code",
   "execution_count": 32,
   "metadata": {},
   "outputs": [
    {
     "name": "stdout",
     "output_type": "stream",
     "text": [
      "33\n"
     ]
    }
   ],
   "source": [
    "#loops\n",
    "a = 33\n",
    "b = 100\n",
    "if(a<b):\n",
    "    print(a)\n",
    "else:\n",
    "    print(b)"
   ]
  },
  {
   "cell_type": "code",
   "execution_count": 37,
   "metadata": {},
   "outputs": [
    {
     "name": "stdout",
     "output_type": "stream",
     "text": [
      "hi\n"
     ]
    }
   ],
   "source": [
    "if(a<b or a < dictionary[\"apples\"]):\n",
    "    print(\"hi\")\n",
    "elif(dictionary[\"oranges\"] == 6): #there version of elseif\n",
    "    print(\"bye bye bye\")\n",
    "else:\n",
    "    print(\"bye\")"
   ]
  },
  {
   "cell_type": "code",
   "execution_count": 47,
   "metadata": {},
   "outputs": [
    {
     "name": "stdout",
     "output_type": "stream",
     "text": [
      "Enter a number56\n",
      "The number  56  is divisible by 4\n"
     ]
    }
   ],
   "source": [
    "#Exercise 1\n",
    "x = int(input(\"Enter a number\"))\n",
    "if(x%4 == 0):\n",
    "    print(\"The number \" , x , \" is divisible by 4\")\n",
    "elif(x%2 == 0):\n",
    "    print(\"The number \" , x , \" is even\")\n",
    "else:\n",
    "    print(\"The number \", x , \" is odd\")"
   ]
  },
  {
   "cell_type": "code",
   "execution_count": 59,
   "metadata": {},
   "outputs": [
    {
     "name": "stdout",
     "output_type": "stream",
     "text": [
      "apples\n",
      "oranges\n",
      "bananas\n",
      "watermelons\n",
      "5\n"
     ]
    }
   ],
   "source": [
    "#loops\n",
    "for fruit in fruits:\n",
    "    print(fruit)\n"
   ]
  },
  {
   "cell_type": "code",
   "execution_count": 78,
   "metadata": {},
   "outputs": [
    {
     "name": "stdout",
     "output_type": "stream",
     "text": [
      "Enter a random number between one to ten5\n",
      "Your guess was too high!\n",
      "Pick another number between one to ten4\n",
      "Congratulation you guessed the number correctly! Type \"exit\" to quit the gamedfhjskdf\n",
      "Type \"exit\" to quit the gameexit\n"
     ]
    }
   ],
   "source": [
    "#Exercise 2\n",
    "import random\n",
    "x = int(random.randint(1,10))\n",
    "y = int(input(\"Enter a random number between one to ten\"))\n",
    "while (not(y == x)):\n",
    "    if(y > x):\n",
    "        print(\"Your guess was too high!\")\n",
    "        y = int(input(\"Pick another number between one to ten\"))\n",
    "    elif(y<x):\n",
    "        print(\"Your guess was too low!\")\n",
    "        y = int(input(\"Pick another number between one to ten\"))\n",
    "z = input(\"Congratulation you guessed the number correctly! Type \\\"exit\\\" to quit the game\")\n",
    "if(not(z == \"exit\")):\n",
    "    z = input(\"Type \\\"exit\\\" to quit the game\")"
   ]
  },
  {
   "cell_type": "code",
   "execution_count": 79,
   "metadata": {},
   "outputs": [
    {
     "name": "stdout",
     "output_type": "stream",
     "text": [
      "Type a random string to check whether or not the word is a palindromehjkl\n",
      "hjkl  is not a palindrome\n"
     ]
    }
   ],
   "source": [
    "#Exercise 3\n",
    "x = input(\"Type a random string to check whether or not the word is a palindrome\")\n",
    "checker = True\n",
    "i = 0\n",
    "for i in range(len(x)):\n",
    "    y = x[i]\n",
    "    z = x[i*(-1)-1]\n",
    "    if(y != z):\n",
    "        checker = False\n",
    "        break\n",
    "\n",
    "if(checker == True):\n",
    "    print(x,\" is a palindrome\")\n",
    "else:\n",
    "    print(x,\" is not a palindrome\")"
   ]
  },
  {
   "cell_type": "code",
   "execution_count": null,
   "metadata": {},
   "outputs": [],
   "source": []
  }
 ],
 "metadata": {
  "kernelspec": {
   "display_name": "Python 3",
   "language": "python",
   "name": "python3"
  },
  "language_info": {
   "codemirror_mode": {
    "name": "ipython",
    "version": 3
   },
   "file_extension": ".py",
   "mimetype": "text/x-python",
   "name": "python",
   "nbconvert_exporter": "python",
   "pygments_lexer": "ipython3",
   "version": "3.7.4"
  }
 },
 "nbformat": 4,
 "nbformat_minor": 2
}
